{
 "cells": [
  {
   "cell_type": "raw",
   "id": "f5701b64-4e7e-41c8-b39a-f2f0c8878f6b",
   "metadata": {},
   "source": [
    "Exercise 2: Create markdown cell with title of the notebook"
   ]
  },
  {
   "cell_type": "markdown",
   "id": "8aa8a45f-54dd-4e1c-a73a-23388b4302c4",
   "metadata": {},
   "source": [
    "# Data Science Tools and Ecosystem"
   ]
  },
  {
   "cell_type": "raw",
   "id": "bca41c09-07fb-41f4-895e-9dd6730c8cb3",
   "metadata": {},
   "source": [
    "Exercise 3 - Create a markdown cell for an introduction"
   ]
  },
  {
   "cell_type": "markdown",
   "id": "353e74aa-c64c-4272-8b67-93e3af2a2f0e",
   "metadata": {},
   "source": [
    "# In this notebook, Data Science Tools and Ecosystem are summarized"
   ]
  },
  {
   "cell_type": "markdown",
   "id": "b86cf0b9-0d55-4c9c-9de6-56bf031b297c",
   "metadata": {},
   "source": [
    "**Objectives:**\n",
    "- List popular languages for Data Science\n",
    "- List commonly used libraried for Data Science\n",
    "- Present examples evaluating arithmetic expressions in Python"
   ]
  },
  {
   "cell_type": "raw",
   "id": "acb4f68e-f99f-486d-89b6-d427bab497ba",
   "metadata": {},
   "source": [
    "Exercise 4 - Create a markdown cell to list data science languages"
   ]
  },
  {
   "cell_type": "markdown",
   "id": "4d7ba34d-5b28-4988-bcf7-912fdee281ba",
   "metadata": {},
   "source": [
    "# Some of the popular languages that Data Scientists use are:\n",
    "1. SQL\n",
    "2. Python\n",
    "3. JavaScript"
   ]
  },
  {
   "cell_type": "raw",
   "id": "cbcc09df-fd9e-4a91-a066-b8b4a339c4f2",
   "metadata": {},
   "source": [
    "Exercise 5 - Create a markdown cell to list data science libraries"
   ]
  },
  {
   "cell_type": "markdown",
   "id": "aa169a89-61cf-425b-85e9-819ecd58e699",
   "metadata": {},
   "source": [
    "# Some of the commonly used libraries used by Data Scientists include:\n",
    "1. Seaborn\n",
    "2. Matplolib\n",
    "3. TensorFlow"
   ]
  },
  {
   "cell_type": "raw",
   "id": "793cbe06-409c-4fdd-8ad1-921a698bb4f9",
   "metadata": {},
   "source": [
    "Exercise 6 - Create a markdown cell with a table of Data Science tools"
   ]
  },
  {
   "cell_type": "markdown",
   "id": "fb90d0fe-bf32-4c27-a2be-4e42bb598750",
   "metadata": {},
   "source": [
    "# Data Science Tools"
   ]
  },
  {
   "cell_type": "markdown",
   "id": "07d62c47-c524-4c79-b75a-152a638887ca",
   "metadata": {},
   "source": [
    "| Data Science Tools |\n",
    "|--------------------|\n",
    "| Jupyter            |\n",
    "| RStudio            |\n",
    "| Spyder             |"
   ]
  },
  {
   "cell_type": "raw",
   "id": "575e7a49-f2f4-462d-beff-55fdf3754ffb",
   "metadata": {},
   "source": [
    "Exercise 7 - Create a markdown cell introducing arithmetic expression examples"
   ]
  },
  {
   "cell_type": "markdown",
   "id": "27644ba4-5545-485c-ad29-ce1ad371b022",
   "metadata": {},
   "source": [
    "### Here are some examples of evaluating arithmetic expressions in Python"
   ]
  },
  {
   "cell_type": "raw",
   "id": "8ef6c5e2-c22c-4645-98d1-ca4615aa60b0",
   "metadata": {},
   "source": [
    "Exercise 8 - Create a code cell to multiply and add numbers"
   ]
  },
  {
   "cell_type": "raw",
   "id": "45f817bc-2fa8-4ae8-a3a2-446c8cf03988",
   "metadata": {},
   "source": [
    "This a simple arithmetic expression to mutiply then add integers"
   ]
  },
  {
   "cell_type": "code",
   "execution_count": 7,
   "id": "55ca8628-01ff-4f94-a9df-c1a98cf5cfb5",
   "metadata": {},
   "outputs": [
    {
     "data": {
      "text/plain": [
       "17"
      ]
     },
     "execution_count": 7,
     "metadata": {},
     "output_type": "execute_result"
    }
   ],
   "source": [
    "(3*4)+5"
   ]
  },
  {
   "cell_type": "raw",
   "id": "4a3aadb3-5008-4c6c-a111-3d1e7271e24a",
   "metadata": {},
   "source": [
    "Exercise 9 - Create a code cell to convert minutes to hours"
   ]
  },
  {
   "cell_type": "raw",
   "id": "4679f58f-110d-4ff0-832c-115a119e80e6",
   "metadata": {},
   "source": [
    "This will convert 200 minutes to hours by diving by 60"
   ]
  },
  {
   "cell_type": "code",
   "execution_count": 8,
   "id": "bc61bf4f-c2ac-4cca-8cc2-3cb611c77f9c",
   "metadata": {},
   "outputs": [
    {
     "data": {
      "text/plain": [
       "3.3333333333333335"
      ]
     },
     "execution_count": 8,
     "metadata": {},
     "output_type": "execute_result"
    }
   ],
   "source": [
    "200/60"
   ]
  },
  {
   "cell_type": "raw",
   "id": "77b40dea-73ab-40ad-b071-999e8c509159",
   "metadata": {},
   "source": [
    "Exercise 10 - Insert a markdown cell to list Objectives"
   ]
  },
  {
   "cell_type": "markdown",
   "id": "0a96683e-ce6e-4bd2-9043-024f32dd036f",
   "metadata": {},
   "source": [
    "See below exercise 3"
   ]
  },
  {
   "cell_type": "raw",
   "id": "650abc29-27ee-47da-8b0b-c367b9486880",
   "metadata": {},
   "source": [
    "Exercise 11 - Create a markdown cell to indicate the Author's name"
   ]
  },
  {
   "cell_type": "markdown",
   "id": "7d822c9b-038a-44b0-8524-4a586424f548",
   "metadata": {},
   "source": [
    "## Author"
   ]
  },
  {
   "cell_type": "raw",
   "id": "755aa549-c56d-4a57-a683-e58d5d4330f1",
   "metadata": {},
   "source": [
    "Jardon Schlieckau"
   ]
  },
  {
   "cell_type": "code",
   "execution_count": null,
   "id": "65698060-eaec-444b-8376-4b1d07122228",
   "metadata": {},
   "outputs": [],
   "source": []
  }
 ],
 "metadata": {
  "kernelspec": {
   "display_name": "Python 3 (ipykernel)",
   "language": "python",
   "name": "python3"
  },
  "language_info": {
   "codemirror_mode": {
    "name": "ipython",
    "version": 3
   },
   "file_extension": ".py",
   "mimetype": "text/x-python",
   "name": "python",
   "nbconvert_exporter": "python",
   "pygments_lexer": "ipython3",
   "version": "3.11.4"
  }
 },
 "nbformat": 4,
 "nbformat_minor": 5
}
